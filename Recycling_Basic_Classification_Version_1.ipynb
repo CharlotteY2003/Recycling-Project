{
  "nbformat": 4,
  "nbformat_minor": 0,
  "metadata": {
    "colab": {
      "name": "Recycling Basic Classification Version 1.ipynb",
      "provenance": [],
      "authorship_tag": "ABX9TyMVW/22p1rCWgP7ycMsViOu",
      "include_colab_link": true
    },
    "kernelspec": {
      "display_name": "Python 3",
      "name": "python3"
    },
    "language_info": {
      "name": "python"
    }
  },
  "cells": [
    {
      "cell_type": "markdown",
      "metadata": {
        "id": "view-in-github",
        "colab_type": "text"
      },
      "source": [
        "<a href=\"https://colab.research.google.com/github/CharlotteY2003/Recycling-Project/blob/main/Recycling_Basic_Classification_Version_1.ipynb\" target=\"_parent\"><img src=\"https://colab.research.google.com/assets/colab-badge.svg\" alt=\"Open In Colab\"/></a>"
      ]
    },
    {
      "cell_type": "markdown",
      "metadata": {
        "id": "VjQRQF_c-7S6"
      },
      "source": [
        "Holds most basic version, with around 70% accuracy on test data <br>\n",
        "Must download trashnet dataset and add it onto google drive"
      ]
    },
    {
      "cell_type": "code",
      "metadata": {
        "id": "K5-pNLeqsr84"
      },
      "source": [
        "import pandas as pd\n",
        "import numpy as np\n",
        "import matplotlib.pyplot as plt\n",
        "import keras\n",
        "from keras.models import Sequential\n",
        "from keras.layers import *\n",
        "from keras.optimizers import *\n",
        "import os\n",
        "from keras.callbacks import EarlyStopping\n",
        "from keras.regularizers import l2\n",
        "from keras import regularizers\n",
        "from keras.preprocessing.image import *"
      ],
      "execution_count": 1,
      "outputs": []
    },
    {
      "cell_type": "code",
      "metadata": {
        "id": "sg8Ous1Ktb0S",
        "colab": {
          "base_uri": "https://localhost:8080/"
        },
        "outputId": "4899743b-098d-4640-81c1-24684230c6ff"
      },
      "source": [
        "from google.colab import drive\n",
        "drive.mount('/content/drive')"
      ],
      "execution_count": 2,
      "outputs": [
        {
          "output_type": "stream",
          "text": [
            "Drive already mounted at /content/drive; to attempt to forcibly remount, call drive.mount(\"/content/drive\", force_remount=True).\n"
          ],
          "name": "stdout"
        }
      ]
    },
    {
      "cell_type": "code",
      "metadata": {
        "colab": {
          "base_uri": "https://localhost:8080/"
        },
        "id": "G_Zl8aaezETT",
        "outputId": "cd4aa96a-4be3-4aa8-967e-28c22989a80a"
      },
      "source": [
        "print(os.listdir('drive/MyDrive/Trashnet/dataset-original'))"
      ],
      "execution_count": 3,
      "outputs": [
        {
          "output_type": "stream",
          "text": [
            "['cardboard', 'plastic', 'trash', 'paper', 'glass', 'metal']\n"
          ],
          "name": "stdout"
        }
      ]
    },
    {
      "cell_type": "markdown",
      "metadata": {
        "id": "YS2yH0Y4VBRN"
      },
      "source": [
        "#Necessary Functions"
      ]
    },
    {
      "cell_type": "code",
      "metadata": {
        "id": "0oAHCyCotdvt"
      },
      "source": [
        "def remove_corrupt(filepath):\n",
        "  skipped = 0\n",
        "  for file_name in os.listdir(filepath):\n",
        "    path = os.path.join(filepath, file_name)\n",
        "    for file in os.listdir(path):\n",
        "      fpath = os.path.join(path, file)\n",
        "      obj = open(fpath, 'rb')\n",
        "      is_jfif = tf.compat.as_bytes('JFIF') in obj.peek(10)\n",
        "      obj.close()\n",
        "      \n",
        "      if not is_jfif:\n",
        "        skipped+=1\n",
        "        os.remove(fpath)\n",
        "  print('Num instances skipped: ',skipped)"
      ],
      "execution_count": 4,
      "outputs": []
    },
    {
      "cell_type": "code",
      "metadata": {
        "id": "Ykv1_zJkwNC1"
      },
      "source": [
        "def build_dataset(filepath):\n",
        "  raw_train_data = tf.keras.preprocessing.image_dataset_from_directory(filepath, seed=11, validation_split=.3, \n",
        "                                                                      subset='training')\n",
        "  raw_val_data = tf.keras.preprocessing.image_dataset_from_directory(filepath, seed=11, validation_split=.3, \n",
        "                                                                      subset='validation')\n",
        "  test_data = raw_val_data.skip(int(.7 * 19)) #total num of files/batch size\n",
        "  val_data = raw_val_data.take(int(.7 * 19))\n",
        "\n",
        "  return raw_train_data, val_data,test_data"
      ],
      "execution_count": 5,
      "outputs": []
    },
    {
      "cell_type": "code",
      "metadata": {
        "id": "xioz1mpOy4Uj"
      },
      "source": [
        "def find_shape(raw_train_data):\n",
        "  for images, labels in raw_train_data.take(1):\n",
        "    for i in range(3):\n",
        "      img = images[i].numpy().astype('uint8')\n",
        "      print(img.shape)\n",
        "      if i==2:\n",
        "        return img.shape"
      ],
      "execution_count": 6,
      "outputs": []
    },
    {
      "cell_type": "code",
      "metadata": {
        "id": "DkwZ-1Uqy7rk"
      },
      "source": [
        "def display_data(raw_train_data, feature_names):\n",
        "  plt.figure(figsize=(10,10))\n",
        "\n",
        "  for images,labels in raw_train_data.take(1):\n",
        "    for i in range(9):\n",
        "      ax = plt.subplot(3,3,i+1)\n",
        "      plt.imshow(images[i].numpy().astype('uint8'))\n",
        "      plt.title(feature_names[int(labels[i])-1])\n",
        "      #plt.title(int(labels[i])-1)\n",
        "      plt.axis('off')"
      ],
      "execution_count": 7,
      "outputs": []
    },
    {
      "cell_type": "code",
      "metadata": {
        "id": "AmYHxE_gzNlW"
      },
      "source": [
        "data_augmentation = tf.keras.Sequential([\n",
        "  RandomFlip(\"horizontal_and_vertical\"),\n",
        "  RandomRotation(0.1),\n",
        "  Normalization(),\n",
        "  RandomTranslation((.2,.3),(.2,.3),fill_mode='nearest'),\n",
        "  Rescaling(1.0/255),\n",
        "])"
      ],
      "execution_count": 8,
      "outputs": []
    },
    {
      "cell_type": "code",
      "metadata": {
        "id": "UINQO3p4zbaD"
      },
      "source": [
        "def build_model(input_shape, num_classes):\n",
        "  #add regularization and dropout\n",
        "\n",
        "  inputs = Input(shape=input_shape)\n",
        "  x = data_augmentation(inputs)\n",
        "  x = Rescaling(1.0/255)(x)\n",
        "\n",
        "  for filter in [64,128,256,512,1024]:\n",
        "    x = Conv2D(filter, (3,3), padding='same', activation='relu', kernel_initializer='he_uniform', kernel_regularizer=regularizers.l2(1e-4))(x)\n",
        "    x = MaxPool2D(padding='same')(x)\n",
        "    x = BatchNormalization()(x)\n",
        "\n",
        "  x = Flatten()(x)\n",
        "  x = Dense(728, activation='relu', kernel_initializer='he_uniform', kernel_regularizer=regularizers.l2(1e-4))(x)\n",
        "  x = BatchNormalization()(x)\n",
        "  x = Dropout(.3)(x)\n",
        "  outputs = Dense(num_classes, activation='softmax')(x)\n",
        "  \n",
        "  model = keras.Model(inputs, outputs)\n",
        "\n",
        "  model.summary()\n",
        "\n",
        "  optimizer = RMSprop(momentum=.9)\n",
        "  model.compile(optimizer=optimizer, loss='sparse_categorical_crossentropy', metrics=['accuracy'])\n",
        "\n",
        "  return model"
      ],
      "execution_count": 11,
      "outputs": []
    },
    {
      "cell_type": "code",
      "metadata": {
        "id": "fictewmy8ifv"
      },
      "source": [
        "def train_model(model, raw_train_data,validation_data):\n",
        "  es = EarlyStopping(min_delta=0, patience=1, mode='min', restore_best_weights=True)\n",
        "  history = model.fit(raw_train_data, validation_data=validation_data, batch_size=32, epochs=5, verbose=1, callbacks=[es])\n",
        "  return model, history"
      ],
      "execution_count": 13,
      "outputs": []
    },
    {
      "cell_type": "code",
      "metadata": {
        "id": "yBNW0mOs9KZ9"
      },
      "source": [
        "def display_metrics(history):\n",
        "  acc = history.history['accuracy']\n",
        "  val_acc = history.history['val_accuracy']\n",
        "  loss = history.history['loss']\n",
        "  val_loss = history.history['val_loss']\n",
        "\n",
        "  plt.plot(acc, label='training', color='blue')\n",
        "  plt.plot(val_acc, label='validation', color='orange')\n",
        "  plt.legend()\n",
        "  plt.xlabel('Epochs')\n",
        "  plt.ylabel('Accuracy')\n",
        "  plt.show()\n",
        "\n",
        "  plt.plot(loss, label='training', color='blue')\n",
        "  plt.plot(val_loss, label='validation', color='orange')\n",
        "  plt.legend()\n",
        "  plt.xlabel('Epochs')\n",
        "  plt.ylabel('Loss')\n",
        "  plt.show()"
      ],
      "execution_count": 14,
      "outputs": []
    },
    {
      "cell_type": "code",
      "metadata": {
        "id": "PPOwIB1BE5ug"
      },
      "source": [
        "def display_predictions(model, feature_names):\n",
        "  predictions = model.predict(test_data)\n",
        "  probs = model.predict_proba(test_data)\n",
        "\n",
        "  for images,labels in test_data.take(1):\n",
        "    for i in range(9):\n",
        "      ax = plt.subplot(3,3,i+1)\n",
        "      plt.imshow(images[i].numpy().astype('uint8'))\n",
        "      pred = np.argmax((predictions[i]))\n",
        "      plt.title(feature_names[int(pred)-1], \"-\", probs[i])\n",
        "      plt.axis('off')"
      ],
      "execution_count": 15,
      "outputs": []
    },
    {
      "cell_type": "markdown",
      "metadata": {
        "id": "FqvMIlY1B5eM"
      },
      "source": [
        "#Build Recycling Classifier"
      ]
    },
    {
      "cell_type": "code",
      "metadata": {
        "colab": {
          "base_uri": "https://localhost:8080/"
        },
        "id": "yUL28-99B77F",
        "outputId": "ada7d3c1-e034-42a1-ced3-c497d2cc5429"
      },
      "source": [
        "filepath = 'drive/MyDrive/Trashnet/dataset-original'\n",
        "feature_names = ['glass', 'metal', 'paper', 'plastic', 'trash', 'cardboard']\n",
        "num_classes = len(feature_names)\n",
        "print(feature_names)"
      ],
      "execution_count": 16,
      "outputs": [
        {
          "output_type": "stream",
          "text": [
            "['glass', 'metal', 'paper', 'plastic', 'trash', 'cardboard']\n"
          ],
          "name": "stdout"
        }
      ]
    },
    {
      "cell_type": "code",
      "metadata": {
        "id": "6GoGlPtdrVUk"
      },
      "source": [
        "remove_corrupt(filepath)\n",
        "train_ds, val_ds, test_ds = build_dataset(filepath)\n",
        "display_data(train_ds, feature_names)\n",
        "input_shape = find_shape(train_ds)"
      ],
      "execution_count": null,
      "outputs": []
    },
    {
      "cell_type": "code",
      "metadata": {
        "id": "HDe4Fl4rVdXS",
        "colab": {
          "base_uri": "https://localhost:8080/"
        },
        "outputId": "200c546e-b51b-4692-eefb-0e359d5173b9"
      },
      "source": [
        "model = build_model(input_shape, num_classes)\n",
        "model, history = train_model(model,train_ds, val_ds)\n",
        "display_metrics(history)"
      ],
      "execution_count": null,
      "outputs": [
        {
          "output_type": "stream",
          "text": [
            "Model: \"model\"\n",
            "_________________________________________________________________\n",
            "Layer (type)                 Output Shape              Param #   \n",
            "=================================================================\n",
            "input_1 (InputLayer)         [(None, 256, 256, 3)]     0         \n",
            "_________________________________________________________________\n",
            "random_flip (RandomFlip)     (None, 256, 256, 3)       0         \n",
            "_________________________________________________________________\n",
            "random_rotation (RandomRotat (None, 256, 256, 3)       0         \n",
            "_________________________________________________________________\n",
            "normalization (Normalization (None, 256, 256, 3)       7         \n",
            "_________________________________________________________________\n",
            "random_translation (RandomTr (None, 256, 256, 3)       0         \n",
            "_________________________________________________________________\n",
            "rescaling (Rescaling)        (None, 256, 256, 3)       0         \n",
            "_________________________________________________________________\n",
            "rescaling_1 (Rescaling)      (None, 256, 256, 3)       0         \n",
            "_________________________________________________________________\n",
            "conv2d (Conv2D)              (None, 256, 256, 64)      1792      \n",
            "_________________________________________________________________\n",
            "max_pooling2d (MaxPooling2D) (None, 128, 128, 64)      0         \n",
            "_________________________________________________________________\n",
            "batch_normalization (BatchNo (None, 128, 128, 64)      256       \n",
            "_________________________________________________________________\n",
            "conv2d_1 (Conv2D)            (None, 128, 128, 128)     73856     \n",
            "_________________________________________________________________\n",
            "max_pooling2d_1 (MaxPooling2 (None, 64, 64, 128)       0         \n",
            "_________________________________________________________________\n",
            "batch_normalization_1 (Batch (None, 64, 64, 128)       512       \n",
            "_________________________________________________________________\n",
            "conv2d_2 (Conv2D)            (None, 64, 64, 256)       295168    \n",
            "_________________________________________________________________\n",
            "max_pooling2d_2 (MaxPooling2 (None, 32, 32, 256)       0         \n",
            "_________________________________________________________________\n",
            "batch_normalization_2 (Batch (None, 32, 32, 256)       1024      \n",
            "_________________________________________________________________\n",
            "conv2d_3 (Conv2D)            (None, 32, 32, 512)       1180160   \n",
            "_________________________________________________________________\n",
            "max_pooling2d_3 (MaxPooling2 (None, 16, 16, 512)       0         \n",
            "_________________________________________________________________\n",
            "batch_normalization_3 (Batch (None, 16, 16, 512)       2048      \n",
            "_________________________________________________________________\n",
            "conv2d_4 (Conv2D)            (None, 16, 16, 1024)      4719616   \n",
            "_________________________________________________________________\n",
            "max_pooling2d_4 (MaxPooling2 (None, 8, 8, 1024)        0         \n",
            "_________________________________________________________________\n",
            "batch_normalization_4 (Batch (None, 8, 8, 1024)        4096      \n",
            "_________________________________________________________________\n",
            "flatten (Flatten)            (None, 65536)             0         \n",
            "_________________________________________________________________\n",
            "dense (Dense)                (None, 728)               47710936  \n",
            "_________________________________________________________________\n",
            "batch_normalization_5 (Batch (None, 728)               2912      \n",
            "_________________________________________________________________\n",
            "dropout (Dropout)            (None, 728)               0         \n",
            "_________________________________________________________________\n",
            "dense_1 (Dense)              (None, 6)                 4374      \n",
            "=================================================================\n",
            "Total params: 53,996,757\n",
            "Trainable params: 53,991,326\n",
            "Non-trainable params: 5,431\n",
            "_________________________________________________________________\n",
            "Epoch 1/5\n",
            "42/46 [==========================>...] - ETA: 1:33 - loss: 6.0146 - accuracy: 0.3064"
          ],
          "name": "stdout"
        }
      ]
    },
    {
      "cell_type": "code",
      "metadata": {
        "id": "7L8RNB0SCYQx"
      },
      "source": [
        "print(model.evaluate(test_ds))"
      ],
      "execution_count": null,
      "outputs": []
    },
    {
      "cell_type": "code",
      "metadata": {
        "id": "NDtNEatCUhxQ"
      },
      "source": [
        "display_predictions(model)"
      ],
      "execution_count": null,
      "outputs": []
    },
    {
      "cell_type": "markdown",
      "metadata": {
        "id": "YrrCJD487XeN"
      },
      "source": [
        "#Build plastic sub classification"
      ]
    },
    {
      "cell_type": "code",
      "metadata": {
        "id": "ffBLiew-7arF"
      },
      "source": [
        "filepath = 'drive/MyDrive/recycling/garbage_classification'\n",
        "remove_corrupted(filepath)\n",
        "feature_names = ['biological', 'brown-glass', 'cardboard', 'clothes', 'battery']\n",
        "plas_train_ds, plas_val_ds, plas_test_ds = build_dataset(filepath)\n",
        "display_data(plas_train_ds, feature_names)\n",
        "input_shape = find_shape(plas_train_ds)"
      ],
      "execution_count": null,
      "outputs": []
    },
    {
      "cell_type": "code",
      "metadata": {
        "id": "e-ZCjkiuV9JJ"
      },
      "source": [
        "plas_model = build_model(input_shape)\n",
        "plas_model, history = train_model(plas_model)\n",
        "display_metrics(history)"
      ],
      "execution_count": null,
      "outputs": []
    },
    {
      "cell_type": "code",
      "metadata": {
        "id": "PyDyqttQUkra"
      },
      "source": [
        "print(plas_model.evaluate(plas_test_ds))"
      ],
      "execution_count": null,
      "outputs": []
    },
    {
      "cell_type": "code",
      "metadata": {
        "id": "1ZtOQ3LPUk_F"
      },
      "source": [
        "display_predictions(plas_model)"
      ],
      "execution_count": null,
      "outputs": []
    }
  ]
}